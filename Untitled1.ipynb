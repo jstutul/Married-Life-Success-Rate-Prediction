{
 "cells": [
  {
   "cell_type": "code",
   "execution_count": 347,
   "metadata": {},
   "outputs": [],
   "source": [
    "import pandas as pd\n",
    "import numpy as np\n",
    "from sklearn import pipeline,preprocessing,metrics,model_selection,ensemble\n",
    "from sklearn_pandas import DataFrameMapper\n",
    "import seaborn as sb"
   ]
  },
  {
   "cell_type": "code",
   "execution_count": 348,
   "metadata": {},
   "outputs": [
    {
     "data": {
      "text/html": [
       "<div>\n",
       "<style scoped>\n",
       "    .dataframe tbody tr th:only-of-type {\n",
       "        vertical-align: middle;\n",
       "    }\n",
       "\n",
       "    .dataframe tbody tr th {\n",
       "        vertical-align: top;\n",
       "    }\n",
       "\n",
       "    .dataframe thead th {\n",
       "        text-align: right;\n",
       "    }\n",
       "</style>\n",
       "<table border=\"1\" class=\"dataframe\">\n",
       "  <thead>\n",
       "    <tr style=\"text-align: right;\">\n",
       "      <th></th>\n",
       "      <th>age</th>\n",
       "      <th>height</th>\n",
       "      <th>weight</th>\n",
       "      <th>city</th>\n",
       "      <th>education</th>\n",
       "      <th>income</th>\n",
       "      <th>gender</th>\n",
       "      <th>body_type</th>\n",
       "      <th>complexin</th>\n",
       "      <th>drinking</th>\n",
       "      <th>smoking</th>\n",
       "      <th>religion</th>\n",
       "      <th>family_status</th>\n",
       "      <th>marital_status</th>\n",
       "      <th>physical_status</th>\n",
       "      <th>id</th>\n",
       "    </tr>\n",
       "  </thead>\n",
       "  <tbody>\n",
       "    <tr>\n",
       "      <th>0</th>\n",
       "      <td>23.0</td>\n",
       "      <td>66.0</td>\n",
       "      <td>70.0</td>\n",
       "      <td>pabna</td>\n",
       "      <td>BSC</td>\n",
       "      <td>60000.0</td>\n",
       "      <td>Female</td>\n",
       "      <td>Slim</td>\n",
       "      <td>Fair</td>\n",
       "      <td>No</td>\n",
       "      <td>No</td>\n",
       "      <td>Muslim</td>\n",
       "      <td>High</td>\n",
       "      <td>Unmarried</td>\n",
       "      <td>Good</td>\n",
       "      <td>1</td>\n",
       "    </tr>\n",
       "    <tr>\n",
       "      <th>1</th>\n",
       "      <td>25.0</td>\n",
       "      <td>70.0</td>\n",
       "      <td>50.0</td>\n",
       "      <td>dhaka</td>\n",
       "      <td>MBA</td>\n",
       "      <td>30000.0</td>\n",
       "      <td>Female</td>\n",
       "      <td>Fatty</td>\n",
       "      <td>Lite Fair</td>\n",
       "      <td>No</td>\n",
       "      <td>No</td>\n",
       "      <td>Muslim</td>\n",
       "      <td>Low</td>\n",
       "      <td>Unmarried</td>\n",
       "      <td>Good</td>\n",
       "      <td>2</td>\n",
       "    </tr>\n",
       "    <tr>\n",
       "      <th>2</th>\n",
       "      <td>NaN</td>\n",
       "      <td>58.0</td>\n",
       "      <td>58.0</td>\n",
       "      <td>pabna</td>\n",
       "      <td>HSC</td>\n",
       "      <td>80000.0</td>\n",
       "      <td>Male</td>\n",
       "      <td>Slim</td>\n",
       "      <td>Black</td>\n",
       "      <td>No</td>\n",
       "      <td>Yes</td>\n",
       "      <td>Hindu</td>\n",
       "      <td>Medium</td>\n",
       "      <td>Unmarried</td>\n",
       "      <td>Medium</td>\n",
       "      <td>3</td>\n",
       "    </tr>\n",
       "    <tr>\n",
       "      <th>3</th>\n",
       "      <td>35.0</td>\n",
       "      <td>62.0</td>\n",
       "      <td>80.0</td>\n",
       "      <td>khulna</td>\n",
       "      <td>LLB</td>\n",
       "      <td>100000.0</td>\n",
       "      <td>Male</td>\n",
       "      <td>Medium</td>\n",
       "      <td>Lite Brown</td>\n",
       "      <td>Yes</td>\n",
       "      <td>No</td>\n",
       "      <td>Muslim</td>\n",
       "      <td>High</td>\n",
       "      <td>Married</td>\n",
       "      <td>Low</td>\n",
       "      <td>4</td>\n",
       "    </tr>\n",
       "    <tr>\n",
       "      <th>4</th>\n",
       "      <td>30.0</td>\n",
       "      <td>60.0</td>\n",
       "      <td>55.0</td>\n",
       "      <td>chittagong</td>\n",
       "      <td>MBA</td>\n",
       "      <td>40000.0</td>\n",
       "      <td>Female</td>\n",
       "      <td>Slim</td>\n",
       "      <td>Brown</td>\n",
       "      <td>No</td>\n",
       "      <td>No</td>\n",
       "      <td>Muslim</td>\n",
       "      <td>Medium</td>\n",
       "      <td>Married</td>\n",
       "      <td>Good</td>\n",
       "      <td>5</td>\n",
       "    </tr>\n",
       "    <tr>\n",
       "      <th>...</th>\n",
       "      <td>...</td>\n",
       "      <td>...</td>\n",
       "      <td>...</td>\n",
       "      <td>...</td>\n",
       "      <td>...</td>\n",
       "      <td>...</td>\n",
       "      <td>...</td>\n",
       "      <td>...</td>\n",
       "      <td>...</td>\n",
       "      <td>...</td>\n",
       "      <td>...</td>\n",
       "      <td>...</td>\n",
       "      <td>...</td>\n",
       "      <td>...</td>\n",
       "      <td>...</td>\n",
       "      <td>...</td>\n",
       "    </tr>\n",
       "    <tr>\n",
       "      <th>245</th>\n",
       "      <td>30.0</td>\n",
       "      <td>62.0</td>\n",
       "      <td>58.0</td>\n",
       "      <td>sylhet</td>\n",
       "      <td>Honor's</td>\n",
       "      <td>0.0</td>\n",
       "      <td>Female</td>\n",
       "      <td>Slim</td>\n",
       "      <td>Lite Brown</td>\n",
       "      <td>Yes</td>\n",
       "      <td>No</td>\n",
       "      <td>Muslim</td>\n",
       "      <td>Medium</td>\n",
       "      <td>Married</td>\n",
       "      <td>Medium</td>\n",
       "      <td>246</td>\n",
       "    </tr>\n",
       "    <tr>\n",
       "      <th>246</th>\n",
       "      <td>25.0</td>\n",
       "      <td>65.0</td>\n",
       "      <td>75.0</td>\n",
       "      <td>sylhet</td>\n",
       "      <td>BSC</td>\n",
       "      <td>20000.0</td>\n",
       "      <td>Male</td>\n",
       "      <td>Medium</td>\n",
       "      <td>Lite Brown</td>\n",
       "      <td>No</td>\n",
       "      <td>Yes</td>\n",
       "      <td>Muslim</td>\n",
       "      <td>Medium</td>\n",
       "      <td>Unmarried</td>\n",
       "      <td>Good</td>\n",
       "      <td>247</td>\n",
       "    </tr>\n",
       "    <tr>\n",
       "      <th>247</th>\n",
       "      <td>24.0</td>\n",
       "      <td>67.0</td>\n",
       "      <td>90.0</td>\n",
       "      <td>khulna</td>\n",
       "      <td>BSC</td>\n",
       "      <td>0.0</td>\n",
       "      <td>Male</td>\n",
       "      <td>Fatty</td>\n",
       "      <td>Lite Brown</td>\n",
       "      <td>Yes</td>\n",
       "      <td>No</td>\n",
       "      <td>Muslim</td>\n",
       "      <td>High</td>\n",
       "      <td>Unmarried</td>\n",
       "      <td>Medium</td>\n",
       "      <td>248</td>\n",
       "    </tr>\n",
       "    <tr>\n",
       "      <th>248</th>\n",
       "      <td>34.0</td>\n",
       "      <td>66.0</td>\n",
       "      <td>85.0</td>\n",
       "      <td>dhaka</td>\n",
       "      <td>Honor's</td>\n",
       "      <td>55000.0</td>\n",
       "      <td>Male</td>\n",
       "      <td>Medium</td>\n",
       "      <td>Fair</td>\n",
       "      <td>No</td>\n",
       "      <td>No</td>\n",
       "      <td>Buddhists</td>\n",
       "      <td>Medium</td>\n",
       "      <td>Married</td>\n",
       "      <td>Medium</td>\n",
       "      <td>249</td>\n",
       "    </tr>\n",
       "    <tr>\n",
       "      <th>249</th>\n",
       "      <td>29.0</td>\n",
       "      <td>60.0</td>\n",
       "      <td>55.0</td>\n",
       "      <td>rangpur</td>\n",
       "      <td>Honor's</td>\n",
       "      <td>60000.0</td>\n",
       "      <td>Female</td>\n",
       "      <td>Slim</td>\n",
       "      <td>Black</td>\n",
       "      <td>Yes</td>\n",
       "      <td>No</td>\n",
       "      <td>Muslim</td>\n",
       "      <td>Medium</td>\n",
       "      <td>Married</td>\n",
       "      <td>Medium</td>\n",
       "      <td>250</td>\n",
       "    </tr>\n",
       "  </tbody>\n",
       "</table>\n",
       "<p>250 rows × 16 columns</p>\n",
       "</div>"
      ],
      "text/plain": [
       "      age  height  weight        city education    income  gender body_type  \\\n",
       "0    23.0    66.0    70.0       pabna       BSC   60000.0  Female      Slim   \n",
       "1    25.0    70.0    50.0       dhaka       MBA   30000.0  Female     Fatty   \n",
       "2     NaN    58.0    58.0       pabna       HSC   80000.0    Male      Slim   \n",
       "3    35.0    62.0    80.0      khulna       LLB  100000.0    Male    Medium   \n",
       "4    30.0    60.0    55.0  chittagong       MBA   40000.0  Female      Slim   \n",
       "..    ...     ...     ...         ...       ...       ...     ...       ...   \n",
       "245  30.0    62.0    58.0      sylhet   Honor's       0.0  Female      Slim   \n",
       "246  25.0    65.0    75.0      sylhet       BSC   20000.0    Male    Medium   \n",
       "247  24.0    67.0    90.0      khulna       BSC       0.0    Male     Fatty   \n",
       "248  34.0    66.0    85.0       dhaka   Honor's   55000.0    Male    Medium   \n",
       "249  29.0    60.0    55.0     rangpur   Honor's   60000.0  Female      Slim   \n",
       "\n",
       "      complexin drinking smoking   religion family_status marital_status  \\\n",
       "0          Fair       No      No     Muslim          High      Unmarried   \n",
       "1     Lite Fair       No      No     Muslim           Low      Unmarried   \n",
       "2         Black       No     Yes      Hindu        Medium      Unmarried   \n",
       "3    Lite Brown      Yes      No     Muslim          High        Married   \n",
       "4         Brown       No      No     Muslim        Medium        Married   \n",
       "..          ...      ...     ...        ...           ...            ...   \n",
       "245  Lite Brown      Yes      No     Muslim        Medium        Married   \n",
       "246  Lite Brown       No     Yes     Muslim        Medium      Unmarried   \n",
       "247  Lite Brown      Yes      No     Muslim          High      Unmarried   \n",
       "248        Fair       No      No  Buddhists        Medium        Married   \n",
       "249       Black      Yes      No     Muslim        Medium        Married   \n",
       "\n",
       "    physical_status   id  \n",
       "0              Good    1  \n",
       "1              Good    2  \n",
       "2            Medium    3  \n",
       "3               Low    4  \n",
       "4              Good    5  \n",
       "..              ...  ...  \n",
       "245          Medium  246  \n",
       "246            Good  247  \n",
       "247          Medium  248  \n",
       "248          Medium  249  \n",
       "249          Medium  250  \n",
       "\n",
       "[250 rows x 16 columns]"
      ]
     },
     "execution_count": 348,
     "metadata": {},
     "output_type": "execute_result"
    }
   ],
   "source": [
    "data=pd.read_excel('jugulbondi.xlsx')\n",
    "data"
   ]
  },
  {
   "cell_type": "code",
   "execution_count": 349,
   "metadata": {},
   "outputs": [
    {
     "data": {
      "text/plain": [
       "age                3\n",
       "height             6\n",
       "weight             4\n",
       "city               0\n",
       "education          3\n",
       "income             8\n",
       "gender             0\n",
       "body_type          0\n",
       "complexin          0\n",
       "drinking           0\n",
       "smoking            0\n",
       "religion           0\n",
       "family_status      0\n",
       "marital_status     0\n",
       "physical_status    2\n",
       "id                 0\n",
       "dtype: int64"
      ]
     },
     "execution_count": 349,
     "metadata": {},
     "output_type": "execute_result"
    }
   ],
   "source": [
    "data.isnull().sum()"
   ]
  },
  {
   "cell_type": "code",
   "execution_count": 350,
   "metadata": {},
   "outputs": [
    {
     "data": {
      "text/plain": [
       "<matplotlib.axes._subplots.AxesSubplot at 0x16db815dc70>"
      ]
     },
     "execution_count": 350,
     "metadata": {},
     "output_type": "execute_result"
    },
    {
     "data": {
      "image/png": "[encoded data removed]",
      "text/plain": [
       "<Figure size 432x288 with 2 Axes>"
      ]
     },
     "metadata": {
      "needs_background": "light"
     },
     "output_type": "display_data"
    }
   ],
   "source": [
    "sb.heatmap(data.isnull())"
   ]
  },
  {
   "cell_type": "code",
   "execution_count": 351,
   "metadata": {},
   "outputs": [],
   "source": [
    "data[\"age\"] = data[\"age\"].fillna(data[\"age\"].mode()[0])\n",
    "data[\"height\"] = data[\"height\"].fillna(data[\"height\"].mean())\n",
    "data[\"weight\"] = data[\"weight\"].fillna(data[\"weight\"].mode()[0])\n",
    "data[\"income\"] = data[\"income\"].fillna(data[\"income\"].mean())"
   ]
  },
  {
   "cell_type": "code",
   "execution_count": 352,
   "metadata": {},
   "outputs": [
    {
     "data": {
      "text/plain": [
       "<matplotlib.axes._subplots.AxesSubplot at 0x16db74e8760>"
      ]
     },
     "execution_count": 352,
     "metadata": {},
     "output_type": "execute_result"
    },
    {
     "data": {
      "image/png": "[encoded data removed]",
      "text/plain": [
       "<Figure size 432x288 with 2 Axes>"
      ]
     },
     "metadata": {
      "needs_background": "light"
     },
     "output_type": "display_data"
    }
   ],
   "source": [
    "sb.heatmap(data.isnull())"
   ]
  },
  {
   "cell_type": "code",
   "execution_count": 353,
   "metadata": {},
   "outputs": [],
   "source": [
    "data = data.dropna(axis=0)"
   ]
  },
  {
   "cell_type": "code",
   "execution_count": 354,
   "metadata": {},
   "outputs": [
    {
     "data": {
      "text/html": [
       "<div>\n",
       "<style scoped>\n",
       "    .dataframe tbody tr th:only-of-type {\n",
       "        vertical-align: middle;\n",
       "    }\n",
       "\n",
       "    .dataframe tbody tr th {\n",
       "        vertical-align: top;\n",
       "    }\n",
       "\n",
       "    .dataframe thead th {\n",
       "        text-align: right;\n",
       "    }\n",
       "</style>\n",
       "<table border=\"1\" class=\"dataframe\">\n",
       "  <thead>\n",
       "    <tr style=\"text-align: right;\">\n",
       "      <th></th>\n",
       "      <th>age</th>\n",
       "      <th>height</th>\n",
       "      <th>weight</th>\n",
       "      <th>city</th>\n",
       "      <th>education</th>\n",
       "      <th>income</th>\n",
       "      <th>gender</th>\n",
       "      <th>body_type</th>\n",
       "      <th>complexin</th>\n",
       "      <th>drinking</th>\n",
       "      <th>smoking</th>\n",
       "      <th>religion</th>\n",
       "      <th>family_status</th>\n",
       "      <th>marital_status</th>\n",
       "      <th>physical_status</th>\n",
       "      <th>id</th>\n",
       "    </tr>\n",
       "  </thead>\n",
       "  <tbody>\n",
       "    <tr>\n",
       "      <th>0</th>\n",
       "      <td>23.0</td>\n",
       "      <td>66.0</td>\n",
       "      <td>70.0</td>\n",
       "      <td>pabna</td>\n",
       "      <td>BSC</td>\n",
       "      <td>60000.0</td>\n",
       "      <td>Female</td>\n",
       "      <td>Slim</td>\n",
       "      <td>Fair</td>\n",
       "      <td>No</td>\n",
       "      <td>No</td>\n",
       "      <td>Muslim</td>\n",
       "      <td>High</td>\n",
       "      <td>Unmarried</td>\n",
       "      <td>Good</td>\n",
       "      <td>1</td>\n",
       "    </tr>\n",
       "    <tr>\n",
       "      <th>1</th>\n",
       "      <td>25.0</td>\n",
       "      <td>70.0</td>\n",
       "      <td>50.0</td>\n",
       "      <td>dhaka</td>\n",
       "      <td>MBA</td>\n",
       "      <td>30000.0</td>\n",
       "      <td>Female</td>\n",
       "      <td>Fatty</td>\n",
       "      <td>Lite Fair</td>\n",
       "      <td>No</td>\n",
       "      <td>No</td>\n",
       "      <td>Muslim</td>\n",
       "      <td>Low</td>\n",
       "      <td>Unmarried</td>\n",
       "      <td>Good</td>\n",
       "      <td>2</td>\n",
       "    </tr>\n",
       "    <tr>\n",
       "      <th>2</th>\n",
       "      <td>25.0</td>\n",
       "      <td>58.0</td>\n",
       "      <td>58.0</td>\n",
       "      <td>pabna</td>\n",
       "      <td>HSC</td>\n",
       "      <td>80000.0</td>\n",
       "      <td>Male</td>\n",
       "      <td>Slim</td>\n",
       "      <td>Black</td>\n",
       "      <td>No</td>\n",
       "      <td>Yes</td>\n",
       "      <td>Hindu</td>\n",
       "      <td>Medium</td>\n",
       "      <td>Unmarried</td>\n",
       "      <td>Medium</td>\n",
       "      <td>3</td>\n",
       "    </tr>\n",
       "    <tr>\n",
       "      <th>3</th>\n",
       "      <td>35.0</td>\n",
       "      <td>62.0</td>\n",
       "      <td>80.0</td>\n",
       "      <td>khulna</td>\n",
       "      <td>LLB</td>\n",
       "      <td>100000.0</td>\n",
       "      <td>Male</td>\n",
       "      <td>Medium</td>\n",
       "      <td>Lite Brown</td>\n",
       "      <td>Yes</td>\n",
       "      <td>No</td>\n",
       "      <td>Muslim</td>\n",
       "      <td>High</td>\n",
       "      <td>Married</td>\n",
       "      <td>Low</td>\n",
       "      <td>4</td>\n",
       "    </tr>\n",
       "    <tr>\n",
       "      <th>4</th>\n",
       "      <td>30.0</td>\n",
       "      <td>60.0</td>\n",
       "      <td>55.0</td>\n",
       "      <td>chittagong</td>\n",
       "      <td>MBA</td>\n",
       "      <td>40000.0</td>\n",
       "      <td>Female</td>\n",
       "      <td>Slim</td>\n",
       "      <td>Brown</td>\n",
       "      <td>No</td>\n",
       "      <td>No</td>\n",
       "      <td>Muslim</td>\n",
       "      <td>Medium</td>\n",
       "      <td>Married</td>\n",
       "      <td>Good</td>\n",
       "      <td>5</td>\n",
       "    </tr>\n",
       "    <tr>\n",
       "      <th>...</th>\n",
       "      <td>...</td>\n",
       "      <td>...</td>\n",
       "      <td>...</td>\n",
       "      <td>...</td>\n",
       "      <td>...</td>\n",
       "      <td>...</td>\n",
       "      <td>...</td>\n",
       "      <td>...</td>\n",
       "      <td>...</td>\n",
       "      <td>...</td>\n",
       "      <td>...</td>\n",
       "      <td>...</td>\n",
       "      <td>...</td>\n",
       "      <td>...</td>\n",
       "      <td>...</td>\n",
       "      <td>...</td>\n",
       "    </tr>\n",
       "    <tr>\n",
       "      <th>245</th>\n",
       "      <td>30.0</td>\n",
       "      <td>62.0</td>\n",
       "      <td>58.0</td>\n",
       "      <td>sylhet</td>\n",
       "      <td>Honor's</td>\n",
       "      <td>0.0</td>\n",
       "      <td>Female</td>\n",
       "      <td>Slim</td>\n",
       "      <td>Lite Brown</td>\n",
       "      <td>Yes</td>\n",
       "      <td>No</td>\n",
       "      <td>Muslim</td>\n",
       "      <td>Medium</td>\n",
       "      <td>Married</td>\n",
       "      <td>Medium</td>\n",
       "      <td>246</td>\n",
       "    </tr>\n",
       "    <tr>\n",
       "      <th>246</th>\n",
       "      <td>25.0</td>\n",
       "      <td>65.0</td>\n",
       "      <td>75.0</td>\n",
       "      <td>sylhet</td>\n",
       "      <td>BSC</td>\n",
       "      <td>20000.0</td>\n",
       "      <td>Male</td>\n",
       "      <td>Medium</td>\n",
       "      <td>Lite Brown</td>\n",
       "      <td>No</td>\n",
       "      <td>Yes</td>\n",
       "      <td>Muslim</td>\n",
       "      <td>Medium</td>\n",
       "      <td>Unmarried</td>\n",
       "      <td>Good</td>\n",
       "      <td>247</td>\n",
       "    </tr>\n",
       "    <tr>\n",
       "      <th>247</th>\n",
       "      <td>24.0</td>\n",
       "      <td>67.0</td>\n",
       "      <td>90.0</td>\n",
       "      <td>khulna</td>\n",
       "      <td>BSC</td>\n",
       "      <td>0.0</td>\n",
       "      <td>Male</td>\n",
       "      <td>Fatty</td>\n",
       "      <td>Lite Brown</td>\n",
       "      <td>Yes</td>\n",
       "      <td>No</td>\n",
       "      <td>Muslim</td>\n",
       "      <td>High</td>\n",
       "      <td>Unmarried</td>\n",
       "      <td>Medium</td>\n",
       "      <td>248</td>\n",
       "    </tr>\n",
       "    <tr>\n",
       "      <th>248</th>\n",
       "      <td>34.0</td>\n",
       "      <td>66.0</td>\n",
       "      <td>85.0</td>\n",
       "      <td>dhaka</td>\n",
       "      <td>Honor's</td>\n",
       "      <td>55000.0</td>\n",
       "      <td>Male</td>\n",
       "      <td>Medium</td>\n",
       "      <td>Fair</td>\n",
       "      <td>No</td>\n",
       "      <td>No</td>\n",
       "      <td>Buddhists</td>\n",
       "      <td>Medium</td>\n",
       "      <td>Married</td>\n",
       "      <td>Medium</td>\n",
       "      <td>249</td>\n",
       "    </tr>\n",
       "    <tr>\n",
       "      <th>249</th>\n",
       "      <td>29.0</td>\n",
       "      <td>60.0</td>\n",
       "      <td>55.0</td>\n",
       "      <td>rangpur</td>\n",
       "      <td>Honor's</td>\n",
       "      <td>60000.0</td>\n",
       "      <td>Female</td>\n",
       "      <td>Slim</td>\n",
       "      <td>Black</td>\n",
       "      <td>Yes</td>\n",
       "      <td>No</td>\n",
       "      <td>Muslim</td>\n",
       "      <td>Medium</td>\n",
       "      <td>Married</td>\n",
       "      <td>Medium</td>\n",
       "      <td>250</td>\n",
       "    </tr>\n",
       "  </tbody>\n",
       "</table>\n",
       "<p>245 rows × 16 columns</p>\n",
       "</div>"
      ],
      "text/plain": [
       "      age  height  weight        city education    income  gender body_type  \\\n",
       "0    23.0    66.0    70.0       pabna       BSC   60000.0  Female      Slim   \n",
       "1    25.0    70.0    50.0       dhaka       MBA   30000.0  Female     Fatty   \n",
       "2    25.0    58.0    58.0       pabna       HSC   80000.0    Male      Slim   \n",
       "3    35.0    62.0    80.0      khulna       LLB  100000.0    Male    Medium   \n",
       "4    30.0    60.0    55.0  chittagong       MBA   40000.0  Female      Slim   \n",
       "..    ...     ...     ...         ...       ...       ...     ...       ...   \n",
       "245  30.0    62.0    58.0      sylhet   Honor's       0.0  Female      Slim   \n",
       "246  25.0    65.0    75.0      sylhet       BSC   20000.0    Male    Medium   \n",
       "247  24.0    67.0    90.0      khulna       BSC       0.0    Male     Fatty   \n",
       "248  34.0    66.0    85.0       dhaka   Honor's   55000.0    Male    Medium   \n",
       "249  29.0    60.0    55.0     rangpur   Honor's   60000.0  Female      Slim   \n",
       "\n",
       "      complexin drinking smoking   religion family_status marital_status  \\\n",
       "0          Fair       No      No     Muslim          High      Unmarried   \n",
       "1     Lite Fair       No      No     Muslim           Low      Unmarried   \n",
       "2         Black       No     Yes      Hindu        Medium      Unmarried   \n",
       "3    Lite Brown      Yes      No     Muslim          High        Married   \n",
       "4         Brown       No      No     Muslim        Medium        Married   \n",
       "..          ...      ...     ...        ...           ...            ...   \n",
       "245  Lite Brown      Yes      No     Muslim        Medium        Married   \n",
       "246  Lite Brown       No     Yes     Muslim        Medium      Unmarried   \n",
       "247  Lite Brown      Yes      No     Muslim          High      Unmarried   \n",
       "248        Fair       No      No  Buddhists        Medium        Married   \n",
       "249       Black      Yes      No     Muslim        Medium        Married   \n",
       "\n",
       "    physical_status   id  \n",
       "0              Good    1  \n",
       "1              Good    2  \n",
       "2            Medium    3  \n",
       "3               Low    4  \n",
       "4              Good    5  \n",
       "..              ...  ...  \n",
       "245          Medium  246  \n",
       "246            Good  247  \n",
       "247          Medium  248  \n",
       "248          Medium  249  \n",
       "249          Medium  250  \n",
       "\n",
       "[245 rows x 16 columns]"
      ]
     },
     "execution_count": 354,
     "metadata": {},
     "output_type": "execute_result"
    }
   ],
   "source": [
    "data"
   ]
  },
  {
   "cell_type": "code",
   "execution_count": 355,
   "metadata": {},
   "outputs": [
    {
     "data": {
      "text/plain": [
       "<matplotlib.axes._subplots.AxesSubplot at 0x16db75ab070>"
      ]
     },
     "execution_count": 355,
     "metadata": {},
     "output_type": "execute_result"
    },
    {
     "data": {
      "image/png": "[encoded data removed]",
      "text/plain": [
       "<Figure size 432x288 with 2 Axes>"
      ]
     },
     "metadata": {
      "needs_background": "light"
     },
     "output_type": "display_data"
    }
   ],
   "source": [
    "sb.heatmap(data.isnull())"
   ]
  },
  {
   "cell_type": "code",
   "execution_count": 356,
   "metadata": {},
   "outputs": [
    {
     "name": "stdout",
     "output_type": "stream",
     "text": [
      "<class 'pandas.core.frame.DataFrame'>\n",
      "Int64Index: 245 entries, 0 to 249\n",
      "Data columns (total 16 columns):\n",
      " #   Column           Non-Null Count  Dtype  \n",
      "---  ------           --------------  -----  \n",
      " 0   age              245 non-null    float64\n",
      " 1   height           245 non-null    float64\n",
      " 2   weight           245 non-null    float64\n",
      " 3   city             245 non-null    object \n",
      " 4   education        245 non-null    object \n",
      " 5   income           245 non-null    float64\n",
      " 6   gender           245 non-null    object \n",
      " 7   body_type        245 non-null    object \n",
      " 8   complexin        245 non-null    object \n",
      " 9   drinking         245 non-null    object \n",
      " 10  smoking          245 non-null    object \n",
      " 11  religion         245 non-null    object \n",
      " 12  family_status    245 non-null    object \n",
      " 13  marital_status   245 non-null    object \n",
      " 14  physical_status  245 non-null    object \n",
      " 15  id               245 non-null    int64  \n",
      "dtypes: float64(4), int64(1), object(11)\n",
      "memory usage: 32.5+ KB\n"
     ]
    }
   ],
   "source": [
    "data.info()"
   ]
  },
  {
   "cell_type": "code",
   "execution_count": 357,
   "metadata": {},
   "outputs": [],
   "source": [
    "mapper = DataFrameMapper([\n",
    "                        (['age','height','weight','income'], preprocessing.StandardScaler()),\n",
    "                        (['city','education','gender','body_type','complexin','drinking','smoking','religion','family_status','marital_status','physical_status'], preprocessing.OneHotEncoder()),\n",
    "                        ])"
   ]
  },
  {
   "cell_type": "code",
   "execution_count": 358,
   "metadata": {},
   "outputs": [
    {
     "data": {
      "text/plain": [
       "Index(['age', 'height', 'weight', 'city', 'education', 'income', 'gender',\n",
       "       'body_type', 'complexin', 'drinking', 'smoking', 'religion',\n",
       "       'family_status', 'marital_status', 'physical_status', 'id'],\n",
       "      dtype='object')"
      ]
     },
     "execution_count": 358,
     "metadata": {},
     "output_type": "execute_result"
    }
   ],
   "source": [
    "data.columns"
   ]
  },
  {
   "cell_type": "code",
   "execution_count": 359,
   "metadata": {},
   "outputs": [],
   "source": [
    "X=['age', 'height', 'weight', 'city', 'education', 'income', 'gender',\n",
    "       'body_type', 'complexin', 'drinking', 'smoking', 'religion',\n",
    "       'family_status', 'marital_status', 'physical_status']\n",
    "Y=['id']"
   ]
  },
  {
   "cell_type": "code",
   "execution_count": 392,
   "metadata": {},
   "outputs": [],
   "source": [
    "pipeline_obj = pipeline.Pipeline([\n",
    "    ('mapper',mapper),\n",
    "    (\"model\", ensemble.RandomForestRegressor(n_estimators=70))\n",
    "])"
   ]
  },
  {
   "cell_type": "code",
   "execution_count": 393,
   "metadata": {},
   "outputs": [],
   "source": [
    "ob=pipeline_obj.fit(data[X],data[Y].values.ravel())"
   ]
  },
  {
   "cell_type": "code",
   "execution_count": 394,
   "metadata": {},
   "outputs": [],
   "source": [
    "kn=pipeline_obj.score(data[X],data[Y].values.ravel())"
   ]
  },
  {
   "cell_type": "code",
   "execution_count": 395,
   "metadata": {},
   "outputs": [
    {
     "name": "stdout",
     "output_type": "stream",
     "text": [
      "Random Forest Regressor Accuracy = 0.6838107404888036\n"
     ]
    }
   ],
   "source": [
    "print(\"Random Forest Regressor Accuracy =\",kn)"
   ]
  },
  {
   "cell_type": "code",
   "execution_count": 396,
   "metadata": {},
   "outputs": [],
   "source": [
    "from sklearn.neighbors import KNeighborsClassifier \n",
    "pipeline_Kn = pipeline.Pipeline([\n",
    "    ('mapper',mapper),\n",
    "    (\"model\", KNeighborsClassifier(n_neighbors=1, metric='minkowski', p=2))\n",
    "])"
   ]
  },
  {
   "cell_type": "code",
   "execution_count": 397,
   "metadata": {},
   "outputs": [],
   "source": [
    "ngb=pipeline_Kn.fit(data[X],data[Y].values.ravel())"
   ]
  },
  {
   "cell_type": "code",
   "execution_count": 398,
   "metadata": {},
   "outputs": [],
   "source": [
    "ngba=pipeline_Kn.score(data[X],data[Y].values.ravel())"
   ]
  },
  {
   "cell_type": "code",
   "execution_count": 399,
   "metadata": {},
   "outputs": [
    {
     "name": "stdout",
     "output_type": "stream",
     "text": [
      "KNeighborsClassifier Accuracy = 0.9551020408163265\n"
     ]
    }
   ],
   "source": [
    "print(\"KNeighborsClassifier Accuracy =\",ngba)"
   ]
  },
  {
   "cell_type": "code",
   "execution_count": 400,
   "metadata": {},
   "outputs": [],
   "source": [
    "p=pipeline_Kn.predict(data[X])"
   ]
  },
  {
   "cell_type": "code",
   "execution_count": 401,
   "metadata": {},
   "outputs": [],
   "source": [
    "pipeline_rfcla = pipeline.Pipeline([\n",
    "    ('mapper',mapper),\n",
    "    (\"model\", ensemble.RandomForestClassifier(n_estimators=70))\n",
    "])"
   ]
  },
  {
   "cell_type": "code",
   "execution_count": 402,
   "metadata": {},
   "outputs": [],
   "source": [
    "rtcla=pipeline_rfcla.fit(data[X],data[Y].values.ravel())"
   ]
  },
  {
   "cell_type": "code",
   "execution_count": 403,
   "metadata": {},
   "outputs": [],
   "source": [
    "rtclaa=pipeline_rfcla.score(data[X],data[Y].values.ravel())"
   ]
  },
  {
   "cell_type": "code",
   "execution_count": 404,
   "metadata": {},
   "outputs": [
    {
     "name": "stdout",
     "output_type": "stream",
     "text": [
      "RandomForestClassifierr Accuracy = 0.9551020408163265\n"
     ]
    }
   ],
   "source": [
    "print(\"RandomForestClassifierr Accuracy =\",rtclaa)"
   ]
  },
  {
   "cell_type": "code",
   "execution_count": 405,
   "metadata": {},
   "outputs": [],
   "source": [
    "from sklearn import naive_bayes\n",
    "pipeline_nv = pipeline.Pipeline([\n",
    "    ('mapper',mapper),\n",
    "    (\"model\", naive_bayes.BernoulliNB())\n",
    "])"
   ]
  },
  {
   "cell_type": "code",
   "execution_count": 406,
   "metadata": {},
   "outputs": [],
   "source": [
    "nvfit=pipeline_nv.fit(data[X],data[Y].values.ravel())"
   ]
  },
  {
   "cell_type": "code",
   "execution_count": 407,
   "metadata": {},
   "outputs": [],
   "source": [
    "nvacc=pipeline_nv.score(data[X],data[Y].values.ravel())"
   ]
  },
  {
   "cell_type": "code",
   "execution_count": 408,
   "metadata": {},
   "outputs": [
    {
     "name": "stdout",
     "output_type": "stream",
     "text": [
      "Naive Bayes Accuracy = 0.9387755102040817\n"
     ]
    }
   ],
   "source": [
    "print(\"Naive Bayes Accuracy =\",nvacc)"
   ]
  },
  {
   "cell_type": "code",
   "execution_count": 409,
   "metadata": {},
   "outputs": [],
   "source": [
    "temp={}\n",
    "temp['age']=20\n",
    "temp['height']=60\n",
    "temp['weight']=70\n",
    "temp['city']='dhaka'\n",
    "temp['education']='LLB'\n",
    "temp['income']=700000\n",
    "temp['gender']='Female'\n",
    "temp['body_type']='Slim'\n",
    "temp['complexin']='Fair'\n",
    "temp['drinking']='No'\n",
    "temp['smoking']='No'\n",
    "temp['religion']='Muslim'\n",
    "temp['family_status']='High'\n",
    "temp['marital_status']='Unmarried'\n",
    "temp['physical_status']='Good'"
   ]
  },
  {
   "cell_type": "code",
   "execution_count": 410,
   "metadata": {},
   "outputs": [],
   "source": [
    "testData=pd.DataFrame({'i':temp}).transpose()"
   ]
  },
  {
   "cell_type": "code",
   "execution_count": 411,
   "metadata": {},
   "outputs": [
    {
     "data": {
      "text/html": [
       "<div>\n",
       "<style scoped>\n",
       "    .dataframe tbody tr th:only-of-type {\n",
       "        vertical-align: middle;\n",
       "    }\n",
       "\n",
       "    .dataframe tbody tr th {\n",
       "        vertical-align: top;\n",
       "    }\n",
       "\n",
       "    .dataframe thead th {\n",
       "        text-align: right;\n",
       "    }\n",
       "</style>\n",
       "<table border=\"1\" class=\"dataframe\">\n",
       "  <thead>\n",
       "    <tr style=\"text-align: right;\">\n",
       "      <th></th>\n",
       "      <th>age</th>\n",
       "      <th>body_type</th>\n",
       "      <th>city</th>\n",
       "      <th>complexin</th>\n",
       "      <th>drinking</th>\n",
       "      <th>education</th>\n",
       "      <th>family_status</th>\n",
       "      <th>gender</th>\n",
       "      <th>height</th>\n",
       "      <th>income</th>\n",
       "      <th>marital_status</th>\n",
       "      <th>physical_status</th>\n",
       "      <th>religion</th>\n",
       "      <th>smoking</th>\n",
       "      <th>weight</th>\n",
       "    </tr>\n",
       "  </thead>\n",
       "  <tbody>\n",
       "    <tr>\n",
       "      <th>i</th>\n",
       "      <td>20</td>\n",
       "      <td>Slim</td>\n",
       "      <td>dhaka</td>\n",
       "      <td>Fair</td>\n",
       "      <td>No</td>\n",
       "      <td>LLB</td>\n",
       "      <td>High</td>\n",
       "      <td>Female</td>\n",
       "      <td>60</td>\n",
       "      <td>700000</td>\n",
       "      <td>Unmarried</td>\n",
       "      <td>Good</td>\n",
       "      <td>Muslim</td>\n",
       "      <td>No</td>\n",
       "      <td>70</td>\n",
       "    </tr>\n",
       "  </tbody>\n",
       "</table>\n",
       "</div>"
      ],
      "text/plain": [
       "  age body_type   city complexin drinking education family_status  gender  \\\n",
       "i  20      Slim  dhaka      Fair       No       LLB          High  Female   \n",
       "\n",
       "  height  income marital_status physical_status religion smoking weight  \n",
       "i     60  700000      Unmarried            Good   Muslim      No     70  "
      ]
     },
     "execution_count": 411,
     "metadata": {},
     "output_type": "execute_result"
    }
   ],
   "source": [
    "testData"
   ]
  },
  {
   "cell_type": "code",
   "execution_count": 412,
   "metadata": {},
   "outputs": [
    {
     "name": "stdout",
     "output_type": "stream",
     "text": [
      "Using Random Forest Regressor = 133.02857142857144 == 133.0\n"
     ]
    }
   ],
   "source": [
    "res = ob.predict(testData)[0]\n",
    "print(\"Using Random Forest Regressor =\",res,\"==\",round(res))"
   ]
  },
  {
   "cell_type": "code",
   "execution_count": 413,
   "metadata": {},
   "outputs": [
    {
     "name": "stdout",
     "output_type": "stream",
     "text": [
      "Using KNeighborsClassifier = 131 == 131\n"
     ]
    }
   ],
   "source": [
    "res = ngb.predict(testData)[0]\n",
    "print(\"Using KNeighborsClassifier =\",res,\"==\",round(res))"
   ]
  },
  {
   "cell_type": "code",
   "execution_count": 414,
   "metadata": {},
   "outputs": [
    {
     "name": "stdout",
     "output_type": "stream",
     "text": [
      "Using RandomForestClassifierr = 210 == 210\n"
     ]
    }
   ],
   "source": [
    "res = rtcla.predict(testData)[0]\n",
    "print(\"Using RandomForestClassifierr =\",res,\"==\",round(res))"
   ]
  },
  {
   "cell_type": "code",
   "execution_count": 415,
   "metadata": {},
   "outputs": [
    {
     "name": "stdout",
     "output_type": "stream",
     "text": [
      "Using Naive Bayes = 165 == 165\n"
     ]
    }
   ],
   "source": [
    "res = nvfit.predict(testData)[0]\n",
    "print(\"Using Naive Bayes =\",res,\"==\",round(res))"
   ]
  },
  {
   "cell_type": "code",
   "execution_count": null,
   "metadata": {},
   "outputs": [],
   "source": []
  }
 ],
 "metadata": {
  "kernelspec": {
   "display_name": "Python 3",
   "language": "python",
   "name": "python3"
  },
  "language_info": {
   "codemirror_mode": {
    "name": "ipython",
    "version": 3
   },
   "file_extension": ".py",
   "mimetype": "text/x-python",
   "name": "python",
   "nbconvert_exporter": "python",
   "pygments_lexer": "ipython3",
   "version": "3.8.3"
  }
 },
 "nbformat": 4,
 "nbformat_minor": 4
}
